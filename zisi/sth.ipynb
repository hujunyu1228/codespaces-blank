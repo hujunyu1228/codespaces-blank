{
 "cells": [
  {
   "attachments": {},
   "cell_type": "markdown",
   "metadata": {},
   "source": [
    "#floyd"
   ]
  },
  {
   "cell_type": "code",
   "execution_count": 7,
   "metadata": {},
   "outputs": [
    {
     "name": "stdout",
     "output_type": "stream",
     "text": [
      "[[100. 100. 100. 100. 100. 100. 100.]\n",
      " [100.   2.   3.   1.   2.   2.   1.]\n",
      " [100.   3.   2.   2.   1.   3.   2.]\n",
      " [100.   1.   2.   2.   1.   1.   2.]\n",
      " [100.   2.   1.   1.   2.   2.   1.]\n",
      " [100.   2.   3.   1.   2.   2.   3.]\n",
      " [100.   1.   2.   2.   1.   3.   2.]]\n"
     ]
    }
   ],
   "source": [
    "import numpy as np\n",
    "n=int(input())\n",
    "m=int(input())\n",
    "a=np.zeros((n+1,n+1))\n",
    "for i in range(n+1):\n",
    "    for j in range(n+1):\n",
    "        a[i][j]=100\n",
    "for i in range(m):\n",
    "    i,j=input().split()\n",
    "    i=int(i)\n",
    "    j=int(j)\n",
    "    a[i][j]=1\n",
    "    a[j][i]=1\n",
    "for k in range(1,n+1):\n",
    "    for i in range(1,n+1):\n",
    "        for j in range(1,n+1):\n",
    "            a[i][j]=min(a[i][k]+a[k][j],a[i][j])\n",
    "\n",
    "print(a)\n"
   ]
  },
  {
   "cell_type": "code",
   "execution_count": null,
   "metadata": {},
   "outputs": [],
   "source": []
  }
 ],
 "metadata": {
  "kernelspec": {
   "display_name": "Python 3",
   "language": "python",
   "name": "python3"
  },
  "language_info": {
   "codemirror_mode": {
    "name": "ipython",
    "version": 3
   },
   "file_extension": ".py",
   "mimetype": "text/x-python",
   "name": "python",
   "nbconvert_exporter": "python",
   "pygments_lexer": "ipython3",
   "version": "3.10.4"
  },
  "orig_nbformat": 4
 },
 "nbformat": 4,
 "nbformat_minor": 2
}
